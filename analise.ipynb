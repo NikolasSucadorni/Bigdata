import pandas as pd
import matplotlib

df = pd.read_csv('MerceariaMeninas.csv', delimiter=";")
print (df)

#tratando os dados coletados
import matplotlib.pyplot as plt
import seaborn as sns

df = pd.read_csv('MerceariaMeninas.csv', delimiter=";")
df

#análise de linhas
df = pd.read_csv('MerceariaMeninas.csv', delimiter=";")
df.columns = ['idcompra', 'Movimentação', 'Quantidade', 'Categoria do Produto','Data', 'Valor', 'Produto']

plt.figure(figsize=(10, 6))
sns.set_style('darkgrid')
sns.lineplot(x='Data', y='Valor', data=df,  palette='husl')
plt.title('Evolução das Vendas')
plt.xlabel('Data')
plt.ylabel('Valor')
plt.show()

#análises de barras
df = pd.read_csv('MerceariaMeninas.csv', delimiter=";")
df.columns = ['idcompra', 'Movimentação', 'Quantidade', 'Categoria do Produto','Data', 'Valor', 'Produto']
df_saida = df[df['Movimentação'] == 'Saída']

sns.set_style('darkgrid')
plt.figure(figsize=(10, 6))
sns.barplot(x='Data', y='Valor', data=df_saida, palette='viridis')
plt.title('Movimentações de Saída por Data')
plt.xlabel('Data')
plt.ylabel('Valor (R$)')
plt.xticks(rotation=45)  
plt.show()

df = pd.read_csv('MerceariaMeninas.csv', delimiter=";")
df.columns = ['idcompra', 'Movimentação', 'Quantidade', 'Categoria do Produto','Data', 'Valor', 'Produto']
df_saida = df[df['Movimentação'] == 'Saída']

sns.set_style('darkgrid')
plt.figure(figsize=(14, 6))
sns.barplot(x='Categoria do Produto', y='Quantidade', data=df_saida, palette='coolwarm')
plt.title('Quantidade por Categoria cadastrada')
plt.xlabel('Categoria do Produto')
plt.ylabel('Quantidade (Unidade)')
plt.xticks(rotation=45)  
plt.show()

df = pd.read_csv('MerceariaMeninas.csv', delimiter=";")
df.columns = ['idcompra', 'Movimentação', 'Quantidade', 'Categoria do Produto','Data', 'Valor', 'Produto']

tabela_quantidade = df.groupby('Categoria do Produto')['Quantidade'].sum()
print(tabela_quantidade)

sns.set_style('darkgrid')
plt.figure(figsize=(14, 6))
sns.barplot(x='Categoria do Produto', y='Quantidade', data=df_saida,)
plt.title('Quantidade Total por Produto')
plt.xlabel('Categoria do Produto')
plt.ylabel('Quantidade')
plt.show()
